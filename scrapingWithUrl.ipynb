{
 "metadata": {
  "language_info": {
   "codemirror_mode": {
    "name": "ipython",
    "version": 3
   },
   "file_extension": ".py",
   "mimetype": "text/x-python",
   "name": "python",
   "nbconvert_exporter": "python",
   "pygments_lexer": "ipython3",
   "version": "3.8.3-final"
  },
  "orig_nbformat": 2,
  "kernelspec": {
   "name": "python3",
   "display_name": "Python 3",
   "language": "python"
  }
 },
 "nbformat": 4,
 "nbformat_minor": 2,
 "cells": [
  {
   "source": [
    "# Scraping"
   ],
   "cell_type": "markdown",
   "metadata": {}
  },
  {
   "source": [
    "Given a URL for TimesOfIndia article, new text is extracted from it.\n"
   ],
   "cell_type": "markdown",
   "metadata": {}
  },
  {
   "cell_type": "code",
   "execution_count": 1,
   "metadata": {},
   "outputs": [],
   "source": [
    "# Header files\n",
    "#\n",
    "# requests -> for accessing the web page.\n",
    "# bs4 -> for scraping the web page.\n",
    "\n",
    "import requests\n",
    "from bs4 import BeautifulSoup"
   ]
  },
  {
   "cell_type": "code",
   "execution_count": 16,
   "metadata": {},
   "outputs": [],
   "source": [
    "# url -> URL of the article\n",
    "\n",
    "url = \"https://timesofindia.indiatimes.com/business/international-business/republican-lawmaker-opposes-biden-admins-move-to-revert-to-lottery-system-for-issuing-h-1b-visas/articleshow/80723622.cms\""
   ]
  },
  {
   "cell_type": "code",
   "execution_count": 17,
   "metadata": {},
   "outputs": [],
   "source": [
    "# requesting and extracting page.\n",
    "\n",
    "req = requests.get(url)\n",
    "articlePage = req.content"
   ]
  },
  {
   "cell_type": "code",
   "execution_count": 18,
   "metadata": {},
   "outputs": [],
   "source": [
    "# loading html libs\n",
    "\n",
    "soup = BeautifulSoup(articlePage, 'html5lib')"
   ]
  },
  {
   "cell_type": "code",
   "execution_count": 19,
   "metadata": {},
   "outputs": [],
   "source": [
    "# accessing only specific part of page that is of our intrest.\n",
    "# getting content (of all) within <div class='ga-headlines'> tag in the html page.\n",
    "\n",
    "article_news = soup.find_all('div', class_='ga-headlines')"
   ]
  },
  {
   "cell_type": "code",
   "execution_count": 20,
   "metadata": {},
   "outputs": [
    {
     "output_type": "stream",
     "name": "stdout",
     "text": [
      "WASHINGTON: A top Republican Senator has opposed the move of the Biden administration to resort to the traditional lottery system to issue H-1B visas to foreign professionals, saying it is giving Big Tech donors the gift of \"cheap\" foreign labour at the expense of American workers. The Biden administration on Thursday announced that it is delaying the H-1B policy of the previous Trump administration on the allocation of the popular foreign work visas by continuing with the lottery system until December 31, 2021, to give the immigration agency more time to develop, test and implement the modifications to the registration system. The Trump-era rule was scheduled to go into effect on March 9. “Big Tech abuses the H-1B visa program to hire cheap foreign labour instead of Americans. That isn't good for American workers, but the Biden administration is letting companies get away with it,” Senator Tom Cotton said. The H-1B visa is a non-immigrant visa that allows US companies to employ foreign workers in speciality occupations that require theoretical or technical expertise. The technology companies depend on it to hire tens of thousands of employees each year from countries like India and China. The US Citizenship and Immigration Services (USCIS) said it would prioritise wages to protect the economic interests of American workers, and better ensure that the most highly skilled foreign workers benefit from the temporary employment programme. Senator Cotton from Arkansas said that H-1B visas should help fill labour shortages, not help Big Tech hire foreigners instead of Americans to save money. “Biden officials say reforming the programme is too hard. In reality, they're giving Big Tech donors the gift of cheap foreign labour—at the expense of American workers,” he alleged. The USCIS can issue a maximum of 65,000 H-1B visas in a year. It can also issue another 20,000 H-1B visas to foreign students who have completed higher studies from a US university in Science, Technology, Engineering and Mathematics (STEM) subjects. Early this week, the Department of Labor also proposed delaying the implementation of its final rule, entitled “Strengthening Wage Protections for the Temporary and Permanent Employment of Certain Aliens in the United States.” It revises how the existing four-tiered wage structure of the Occupational Employment Statistics (OES) wage survey is calculated for purposes of determining prevailing wages. \n"
     ]
    }
   ],
   "source": [
    "# extracting text\n",
    "# coverpage_news[0] -> referes to the content of first <div class='ga-headlines'> tag in the html page.\n",
    "\n",
    "data = article_news[0].get_text()\n",
    "print(data)"
   ]
  },
  {
   "cell_type": "code",
   "execution_count": null,
   "metadata": {},
   "outputs": [],
   "source": []
  }
 ]
}