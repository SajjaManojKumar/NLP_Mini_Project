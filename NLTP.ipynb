{
 "metadata": {
  "language_info": {
   "codemirror_mode": {
    "name": "ipython",
    "version": 3
   },
   "file_extension": ".py",
   "mimetype": "text/x-python",
   "name": "python",
   "nbconvert_exporter": "python",
   "pygments_lexer": "ipython3",
   "version": "3.8.3-final"
  },
  "orig_nbformat": 2,
  "kernelspec": {
   "name": "python3",
   "display_name": "Python 3.8.3 64-bit",
   "metadata": {
    "interpreter": {
     "hash": "5c7c67e5b209c34ba95b3c5154bf94a2c116ce2ecf96f8908a8c100b41a1450e"
    }
   }
  }
 },
 "nbformat": 4,
 "nbformat_minor": 2,
 "cells": [
  {
   "cell_type": "code",
   "execution_count": 22,
   "metadata": {},
   "outputs": [
    {
     "output_type": "stream",
     "name": "stdout",
     "text": [
      "['WASHINGTON', ':', 'A', 'top', 'Republican', 'Senator', 'has', 'opposed', 'the', 'move', 'of', 'the', 'Biden', 'administration', 'to', 'resort', 'to', 'the', 'traditional', 'lottery', 'system', 'to', 'issue', 'H-1B', 'visas', 'to', 'foreign', 'professionals', ',', 'saying', 'it', 'is', 'giving', 'Big', 'Tech', 'donors', 'the', 'gift', 'of', '``', 'cheap', \"''\", 'foreign', 'labour']\n['WASHINGTON', ':', 'top', 'Republican', 'Senator', 'opposed', 'move', 'Biden', 'administration', 'resort', 'traditional', 'lottery', 'system', 'issue', 'H-1B', 'visas', 'foreign', 'professionals', ',', 'saying', 'giving', 'Big', 'Tech', 'donors', 'gift', '``', 'cheap', \"''\", 'foreign', 'labour']\n['washington', ':', 'top', 'republican', 'senat', 'oppos', 'move', 'biden', 'administr', 'resort', 'tradit', 'lotteri', 'system', 'issu', 'h-1b', 'visa', 'foreign', 'profession', ',', 'say', 'give', 'big', 'tech', 'donor', 'gift', '``', 'cheap', \"''\", 'foreign', 'labour']\n[('washington', 'NN'), (':', ':'), ('top', 'JJ'), ('republican', 'JJ'), ('senat', 'NN'), ('oppos', 'MD'), ('move', 'VB'), ('biden', 'NN'), ('administr', 'NN'), ('resort', 'NN'), ('tradit', 'NN'), ('lotteri', 'NN'), ('system', 'NN'), ('issu', 'JJ'), ('h-1b', 'JJ'), ('visa', 'NN'), ('foreign', 'JJ'), ('profession', 'NN'), (',', ','), ('say', 'VBP'), ('give', 'JJ'), ('big', 'JJ'), ('tech', 'NN'), ('donor', 'NN'), ('gift', 'NN'), ('``', '``'), ('cheap', 'JJ'), (\"''\", \"''\"), ('foreign', 'JJ'), ('labour', 'NN')]\n"
     ]
    }
   ],
   "source": [
    "import nltk\n",
    "from nltk.corpus import stopwords \n",
    "from nltk.stem import PorterStemmer  \n",
    "from nltk.tokenize import word_tokenize  \n",
    "  \n",
    "example_sent = \"\"\"WASHINGTON: A top Republican Senator has opposed the move of the Biden administration to\n",
    "resort to the traditional lottery system to issue H-1B visas to foreign professionals, saying\n",
    "it is giving Big Tech donors the gift of \"cheap\" foreign labour\"\"\"\n",
    "  \n",
    "stop_words = set(stopwords.words('english'))  \n",
    "\n",
    "ps = PorterStemmer()\n",
    "  \n",
    "word_tokens = word_tokenize(example_sent)  \n",
    "    \n",
    "  \n",
    "filtered_sentence = []  \n",
    "  \n",
    "for w in word_tokens:  \n",
    "    if w.lower() not in stop_words:  \n",
    "        filtered_sentence.append(w)  \n",
    "\n",
    "stemed_words = []\n",
    "\n",
    "for w in filtered_sentence:\n",
    "    stemed_words.append(ps.stem(w))\n",
    "\n",
    "speechTagged = nltk.pos_tag(stemed_words)\n",
    "  \n",
    "print(word_tokens)  \n",
    "print(filtered_sentence)\n",
    "print(stemed_words)\n",
    "print(speechTagged)\n",
    "# print(stop_words)"
   ]
  },
  {
   "cell_type": "code",
   "execution_count": 20,
   "metadata": {},
   "outputs": [
    {
     "output_type": "stream",
     "name": "stderr",
     "text": [
      "[nltk_data] Downloading package averaged_perceptron_tagger to\n",
      "[nltk_data]     C:\\Users\\Manoj Kumar\\AppData\\Roaming\\nltk_data...\n",
      "[nltk_data]   Unzipping taggers\\averaged_perceptron_tagger.zip.\n"
     ]
    },
    {
     "output_type": "execute_result",
     "data": {
      "text/plain": [
       "True"
      ]
     },
     "metadata": {},
     "execution_count": 20
    }
   ],
   "source": [
    "import nltk\n",
    "nltk.download('averaged_perceptron_tagger')"
   ]
  },
  {
   "cell_type": "code",
   "execution_count": null,
   "metadata": {},
   "outputs": [],
   "source": []
  }
 ]
}